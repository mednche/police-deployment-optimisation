{
 "cells": [
  {
   "cell_type": "markdown",
   "metadata": {},
   "source": [
    "# Create training, testing sets and historical set"
   ]
  },
  {
   "cell_type": "markdown",
   "metadata": {},
   "source": [
    "In this notebook we select \n",
    "\n",
    "1. two **training sets** (for scenario 1 and 2) for the GA from the year **2018**: \n",
    "    - training_set_scenario_1: 100 low demand time periods (weekday 8am-4pm)\n",
    "    - training_set_scenario_2: 100 high-demand time periods (weekend (midnight-8am)\n",
    "\n",
    "-> To train the GA\n",
    "\n",
    "\n",
    "2. two **testing sets** (for scenario 1 and 2) for the GA (and benchmark configs for comparison) from the year **2019**: \n",
    "    - testing_set_scenario_1: 100 low demand time periods (weekday 8am-4pm)\n",
    "    - testing_set_scenario_2: 100 high-demand time periods (weekend (midnight-8am)\n",
    "\n",
    "-> To evaluate strategy performance and compare with non-GA discovered strategies from ABM experiments\n",
    "\n",
    "\n",
    "\n",
    "\n",
    "\n",
    "\n",
    "3. two **historical sets** (for scenario 1 and 2) for the GA (and benchmark configs for comparison) from the year **2017**. \n",
    "    - historical_set_scenario_1: 100 low demand time periods (weekday 8am-4pm)\n",
    "    - historical_set_scenario_2: 100 high-demand time periods (weekend (midnight-8am)\n",
    "\n",
    "-> This is used in ABMs Env to identify hot streets to patrol. The crime/CFS incidents from those time periods may influence: \n",
    "\n",
    "(1) the response time (historical CFS, for GA single obj learning and evaluation and its benchmark config evaluation) \n",
    "\n",
    "(2) the crime deterrence score (historical crimes, for GA multi obj learning and evaluation and its benchmark config evaluation)\n",
    "\n",
    "\n",
    "To be used in the ABM experiments too!"
   ]
  },
  {
   "cell_type": "markdown",
   "metadata": {},
   "source": [
    "Both testing and training set contain different shifts as they belong to different years!"
   ]
  },
  {
   "cell_type": "code",
   "execution_count": 1,
   "metadata": {},
   "outputs": [
    {
     "name": "stdout",
     "output_type": "stream",
     "text": [
      "/Users/natachachenevoy/Documents/GitHub/ABM-Detroit-Police-Dispatch/GA1_experiment\n"
     ]
    }
   ],
   "source": [
    "import os\n",
    "print(os.getcwd())\n",
    "\n",
    "import osmnx as ox\n",
    "import pandas as pd\n",
    "\n",
    "from datetime import datetime, timedelta, time\n",
    "import numpy as np\n",
    "import scipy as sp\n",
    "\n",
    "import matplotlib.pyplot as plt\n",
    "import matplotlib.lines as mlines\n",
    "import seaborn as sns\n",
    "import matplotlib as mpl\n",
    "import pickle\n",
    "\n",
    "import random\n",
    "\n",
    "import warnings\n",
    "\n"
   ]
  },
  {
   "cell_type": "code",
   "execution_count": 2,
   "metadata": {},
   "outputs": [],
   "source": [
    "def getYearData(YEAR) :\n",
    "    data = pd.read_csv(\"../Data/Incidents_new_preprocessed.csv\")\n",
    "    data.Date_Time = pd.to_datetime(data.Date_Time)\n",
    "    data.Date_Time = data.Date_Time.dt.tz_localize(None)\n",
    "    #cfs_incidents['Patrol_beat'] = cfs_incidents['Patrol_beat'].apply(str)\n",
    "    #cfs_incidents['Precinct'] = cfs_incidents['Precinct'].apply(str)\n",
    "\n",
    "    # SELECT 2018 for validation (so that 2017 can be used for historical crimes)\n",
    "    data = data[(data['Date_Time'].dt.year == YEAR)]\n",
    "    return data\n"
   ]
  },
  {
   "cell_type": "code",
   "execution_count": 3,
   "metadata": {},
   "outputs": [],
   "source": [
    "def get_start_end_shift(date, start_time):\n",
    "    duration_hours = 8\n",
    "    start_time = time(start_time,0)\n",
    "\n",
    "\n",
    "    SHIFT_START_DT = datetime.combine(date, start_time)\n",
    "    SHIFT_END_DT = SHIFT_START_DT + timedelta(hours = duration_hours)\n",
    "    END_TIME = SHIFT_END_DT.time()\n",
    "\n",
    "    #print('Shift is from {} to {}'.format(SHIFT_START_DT,SHIFT_END_DT))\n",
    "\n",
    "    return SHIFT_START_DT, SHIFT_END_DT"
   ]
  },
  {
   "cell_type": "markdown",
   "metadata": {},
   "source": [
    "## Testing set (2019)"
   ]
  },
  {
   "cell_type": "code",
   "execution_count": 4,
   "metadata": {},
   "outputs": [],
   "source": [
    "data = getYearData(2019)"
   ]
  },
  {
   "cell_type": "markdown",
   "metadata": {},
   "source": [
    "## Scenario 1"
   ]
  },
  {
   "cell_type": "code",
   "execution_count": 5,
   "metadata": {},
   "outputs": [
    {
     "name": "stdout",
     "output_type": "stream",
     "text": [
      "There are 261 unique dates in dataset\n"
     ]
    }
   ],
   "source": [
    "# Select the weekdays (Monday to Friday)\n",
    "df_weekdays = data[data.Date_Time.dt.weekday // 5 == 0]\n",
    "df_weekdays = df_weekdays[(df_weekdays.Date_Time.dt.hour >= 8) & \n",
    "                                (df_weekdays.Date_Time.dt.hour < 16)]\n",
    "\n",
    "dates_uniques_weekdays = df_weekdays['Date_Time'].sort_values().dt.date.unique()\n",
    "# Remove first and last date for full days.\n",
    "#dates_uniques_weekdays = dates_uniques_weekdays[1:-2]\n",
    "print('There are {} unique dates in dataset'.format(len(dates_uniques_weekdays)))\n",
    "\n",
    "## WEEKDAYS\n",
    "# get all weekday shifts\n",
    "all_weekday_shifts = [get_start_end_shift(date, 8) for date in  dates_uniques_weekdays]\n",
    "\n",
    "# select 100 shifts at random\n",
    "random.seed(222)\n",
    "testing_set_scenario1 = random.sample(all_weekday_shifts, 100)"
   ]
  },
  {
   "cell_type": "markdown",
   "metadata": {},
   "source": [
    "## Scenario 2"
   ]
  },
  {
   "cell_type": "code",
   "execution_count": 6,
   "metadata": {},
   "outputs": [
    {
     "name": "stdout",
     "output_type": "stream",
     "text": [
      "There are 104 unique dates in dataset\n"
     ]
    }
   ],
   "source": [
    "# Select the weekend days (Saturday and Sunday)\n",
    "df_weekends = data[data.Date_Time.dt.weekday // 5 == 1]\n",
    "df_weekends = df_weekends[(df_weekends.Date_Time.dt.hour >= 0) & \n",
    "                                (df_weekends.Date_Time.dt.hour < 8)]\n",
    "dates_uniques_weekends = df_weekends['Date_Time'].sort_values().dt.date.unique()\n",
    "# Remove first and last date for full days.\n",
    "#dates_uniques_weekends = dates_uniques_weekends[1:-2]\n",
    "print('There are {} unique dates in dataset'.format(len(dates_uniques_weekends)))\n",
    "\n",
    "\n",
    "\n",
    "## WEEKENDS\n",
    "# get all weekend shifts\n",
    "all_weekend_shifts = [get_start_end_shift(date, 0) for date in  dates_uniques_weekends]\n",
    "\n",
    "# select 100 shifts at random\n",
    "random.seed(222)\n",
    "testing_set_scenario2 = random.sample(all_weekend_shifts, 100)"
   ]
  },
  {
   "cell_type": "code",
   "execution_count": 7,
   "metadata": {},
   "outputs": [],
   "source": [
    "import pickle\n",
    "with open('./testing_set_scenario1.pkl', 'wb') as f:\n",
    "    pickle.dump(testing_set_scenario1, f)\n",
    "with open('./testing_set_scenario2.pkl', 'wb') as f:\n",
    "    pickle.dump(testing_set_scenario2, f)"
   ]
  },
  {
   "cell_type": "code",
   "execution_count": 8,
   "metadata": {},
   "outputs": [
    {
     "data": {
      "text/plain": [
       "[(datetime.datetime(2019, 3, 19, 8, 0), datetime.datetime(2019, 3, 19, 16, 0)),\n",
       " (datetime.datetime(2019, 6, 18, 8, 0), datetime.datetime(2019, 6, 18, 16, 0)),\n",
       " (datetime.datetime(2019, 7, 23, 8, 0), datetime.datetime(2019, 7, 23, 16, 0)),\n",
       " (datetime.datetime(2019, 8, 7, 8, 0), datetime.datetime(2019, 8, 7, 16, 0)),\n",
       " (datetime.datetime(2019, 1, 23, 8, 0), datetime.datetime(2019, 1, 23, 16, 0)),\n",
       " (datetime.datetime(2019, 1, 21, 8, 0), datetime.datetime(2019, 1, 21, 16, 0)),\n",
       " (datetime.datetime(2019, 6, 21, 8, 0), datetime.datetime(2019, 6, 21, 16, 0)),\n",
       " (datetime.datetime(2019, 3, 21, 8, 0), datetime.datetime(2019, 3, 21, 16, 0)),\n",
       " (datetime.datetime(2019, 6, 7, 8, 0), datetime.datetime(2019, 6, 7, 16, 0)),\n",
       " (datetime.datetime(2019, 9, 23, 8, 0), datetime.datetime(2019, 9, 23, 16, 0)),\n",
       " (datetime.datetime(2019, 9, 16, 8, 0), datetime.datetime(2019, 9, 16, 16, 0)),\n",
       " (datetime.datetime(2019, 6, 6, 8, 0), datetime.datetime(2019, 6, 6, 16, 0)),\n",
       " (datetime.datetime(2019, 6, 11, 8, 0), datetime.datetime(2019, 6, 11, 16, 0)),\n",
       " (datetime.datetime(2019, 1, 28, 8, 0), datetime.datetime(2019, 1, 28, 16, 0)),\n",
       " (datetime.datetime(2019, 10, 4, 8, 0), datetime.datetime(2019, 10, 4, 16, 0)),\n",
       " (datetime.datetime(2019, 1, 7, 8, 0), datetime.datetime(2019, 1, 7, 16, 0)),\n",
       " (datetime.datetime(2019, 2, 6, 8, 0), datetime.datetime(2019, 2, 6, 16, 0)),\n",
       " (datetime.datetime(2019, 12, 2, 8, 0), datetime.datetime(2019, 12, 2, 16, 0)),\n",
       " (datetime.datetime(2019, 5, 30, 8, 0), datetime.datetime(2019, 5, 30, 16, 0)),\n",
       " (datetime.datetime(2019, 1, 25, 8, 0), datetime.datetime(2019, 1, 25, 16, 0)),\n",
       " (datetime.datetime(2019, 6, 25, 8, 0), datetime.datetime(2019, 6, 25, 16, 0)),\n",
       " (datetime.datetime(2019, 8, 28, 8, 0), datetime.datetime(2019, 8, 28, 16, 0)),\n",
       " (datetime.datetime(2019, 7, 3, 8, 0), datetime.datetime(2019, 7, 3, 16, 0)),\n",
       " (datetime.datetime(2019, 3, 14, 8, 0), datetime.datetime(2019, 3, 14, 16, 0)),\n",
       " (datetime.datetime(2019, 5, 10, 8, 0), datetime.datetime(2019, 5, 10, 16, 0)),\n",
       " (datetime.datetime(2019, 9, 9, 8, 0), datetime.datetime(2019, 9, 9, 16, 0)),\n",
       " (datetime.datetime(2019, 3, 29, 8, 0), datetime.datetime(2019, 3, 29, 16, 0)),\n",
       " (datetime.datetime(2019, 7, 2, 8, 0), datetime.datetime(2019, 7, 2, 16, 0)),\n",
       " (datetime.datetime(2019, 5, 1, 8, 0), datetime.datetime(2019, 5, 1, 16, 0)),\n",
       " (datetime.datetime(2019, 12, 16, 8, 0),\n",
       "  datetime.datetime(2019, 12, 16, 16, 0)),\n",
       " (datetime.datetime(2019, 12, 19, 8, 0),\n",
       "  datetime.datetime(2019, 12, 19, 16, 0)),\n",
       " (datetime.datetime(2019, 3, 12, 8, 0), datetime.datetime(2019, 3, 12, 16, 0)),\n",
       " (datetime.datetime(2019, 3, 25, 8, 0), datetime.datetime(2019, 3, 25, 16, 0)),\n",
       " (datetime.datetime(2019, 11, 4, 8, 0), datetime.datetime(2019, 11, 4, 16, 0)),\n",
       " (datetime.datetime(2019, 12, 25, 8, 0),\n",
       "  datetime.datetime(2019, 12, 25, 16, 0)),\n",
       " (datetime.datetime(2019, 10, 18, 8, 0),\n",
       "  datetime.datetime(2019, 10, 18, 16, 0)),\n",
       " (datetime.datetime(2019, 4, 9, 8, 0), datetime.datetime(2019, 4, 9, 16, 0)),\n",
       " (datetime.datetime(2019, 5, 24, 8, 0), datetime.datetime(2019, 5, 24, 16, 0)),\n",
       " (datetime.datetime(2019, 1, 9, 8, 0), datetime.datetime(2019, 1, 9, 16, 0)),\n",
       " (datetime.datetime(2019, 11, 18, 8, 0),\n",
       "  datetime.datetime(2019, 11, 18, 16, 0)),\n",
       " (datetime.datetime(2019, 11, 22, 8, 0),\n",
       "  datetime.datetime(2019, 11, 22, 16, 0)),\n",
       " (datetime.datetime(2019, 5, 20, 8, 0), datetime.datetime(2019, 5, 20, 16, 0)),\n",
       " (datetime.datetime(2019, 8, 26, 8, 0), datetime.datetime(2019, 8, 26, 16, 0)),\n",
       " (datetime.datetime(2019, 12, 18, 8, 0),\n",
       "  datetime.datetime(2019, 12, 18, 16, 0)),\n",
       " (datetime.datetime(2019, 7, 1, 8, 0), datetime.datetime(2019, 7, 1, 16, 0)),\n",
       " (datetime.datetime(2019, 1, 31, 8, 0), datetime.datetime(2019, 1, 31, 16, 0)),\n",
       " (datetime.datetime(2019, 4, 16, 8, 0), datetime.datetime(2019, 4, 16, 16, 0)),\n",
       " (datetime.datetime(2019, 4, 25, 8, 0), datetime.datetime(2019, 4, 25, 16, 0)),\n",
       " (datetime.datetime(2019, 2, 14, 8, 0), datetime.datetime(2019, 2, 14, 16, 0)),\n",
       " (datetime.datetime(2019, 3, 5, 8, 0), datetime.datetime(2019, 3, 5, 16, 0)),\n",
       " (datetime.datetime(2019, 8, 20, 8, 0), datetime.datetime(2019, 8, 20, 16, 0)),\n",
       " (datetime.datetime(2019, 9, 24, 8, 0), datetime.datetime(2019, 9, 24, 16, 0)),\n",
       " (datetime.datetime(2019, 10, 17, 8, 0),\n",
       "  datetime.datetime(2019, 10, 17, 16, 0)),\n",
       " (datetime.datetime(2019, 3, 4, 8, 0), datetime.datetime(2019, 3, 4, 16, 0)),\n",
       " (datetime.datetime(2019, 8, 12, 8, 0), datetime.datetime(2019, 8, 12, 16, 0)),\n",
       " (datetime.datetime(2019, 9, 5, 8, 0), datetime.datetime(2019, 9, 5, 16, 0)),\n",
       " (datetime.datetime(2019, 7, 5, 8, 0), datetime.datetime(2019, 7, 5, 16, 0)),\n",
       " (datetime.datetime(2019, 3, 7, 8, 0), datetime.datetime(2019, 3, 7, 16, 0)),\n",
       " (datetime.datetime(2019, 5, 14, 8, 0), datetime.datetime(2019, 5, 14, 16, 0)),\n",
       " (datetime.datetime(2019, 8, 8, 8, 0), datetime.datetime(2019, 8, 8, 16, 0)),\n",
       " (datetime.datetime(2019, 3, 13, 8, 0), datetime.datetime(2019, 3, 13, 16, 0)),\n",
       " (datetime.datetime(2019, 2, 27, 8, 0), datetime.datetime(2019, 2, 27, 16, 0)),\n",
       " (datetime.datetime(2019, 8, 9, 8, 0), datetime.datetime(2019, 8, 9, 16, 0)),\n",
       " (datetime.datetime(2019, 7, 8, 8, 0), datetime.datetime(2019, 7, 8, 16, 0)),\n",
       " (datetime.datetime(2019, 10, 8, 8, 0), datetime.datetime(2019, 10, 8, 16, 0)),\n",
       " (datetime.datetime(2019, 5, 13, 8, 0), datetime.datetime(2019, 5, 13, 16, 0)),\n",
       " (datetime.datetime(2019, 8, 13, 8, 0), datetime.datetime(2019, 8, 13, 16, 0)),\n",
       " (datetime.datetime(2019, 7, 16, 8, 0), datetime.datetime(2019, 7, 16, 16, 0)),\n",
       " (datetime.datetime(2019, 10, 31, 8, 0),\n",
       "  datetime.datetime(2019, 10, 31, 16, 0)),\n",
       " (datetime.datetime(2019, 8, 19, 8, 0), datetime.datetime(2019, 8, 19, 16, 0)),\n",
       " (datetime.datetime(2019, 8, 1, 8, 0), datetime.datetime(2019, 8, 1, 16, 0)),\n",
       " (datetime.datetime(2019, 7, 12, 8, 0), datetime.datetime(2019, 7, 12, 16, 0)),\n",
       " (datetime.datetime(2019, 6, 28, 8, 0), datetime.datetime(2019, 6, 28, 16, 0)),\n",
       " (datetime.datetime(2019, 1, 29, 8, 0), datetime.datetime(2019, 1, 29, 16, 0)),\n",
       " (datetime.datetime(2019, 10, 29, 8, 0),\n",
       "  datetime.datetime(2019, 10, 29, 16, 0)),\n",
       " (datetime.datetime(2019, 11, 6, 8, 0), datetime.datetime(2019, 11, 6, 16, 0)),\n",
       " (datetime.datetime(2019, 4, 30, 8, 0), datetime.datetime(2019, 4, 30, 16, 0)),\n",
       " (datetime.datetime(2019, 5, 8, 8, 0), datetime.datetime(2019, 5, 8, 16, 0)),\n",
       " (datetime.datetime(2019, 4, 5, 8, 0), datetime.datetime(2019, 4, 5, 16, 0)),\n",
       " (datetime.datetime(2019, 1, 8, 8, 0), datetime.datetime(2019, 1, 8, 16, 0)),\n",
       " (datetime.datetime(2019, 4, 2, 8, 0), datetime.datetime(2019, 4, 2, 16, 0)),\n",
       " (datetime.datetime(2019, 1, 10, 8, 0), datetime.datetime(2019, 1, 10, 16, 0)),\n",
       " (datetime.datetime(2019, 7, 9, 8, 0), datetime.datetime(2019, 7, 9, 16, 0)),\n",
       " (datetime.datetime(2019, 9, 4, 8, 0), datetime.datetime(2019, 9, 4, 16, 0)),\n",
       " (datetime.datetime(2019, 3, 1, 8, 0), datetime.datetime(2019, 3, 1, 16, 0)),\n",
       " (datetime.datetime(2019, 11, 27, 8, 0),\n",
       "  datetime.datetime(2019, 11, 27, 16, 0)),\n",
       " (datetime.datetime(2019, 11, 8, 8, 0), datetime.datetime(2019, 11, 8, 16, 0)),\n",
       " (datetime.datetime(2019, 4, 11, 8, 0), datetime.datetime(2019, 4, 11, 16, 0)),\n",
       " (datetime.datetime(2019, 6, 10, 8, 0), datetime.datetime(2019, 6, 10, 16, 0)),\n",
       " (datetime.datetime(2019, 5, 27, 8, 0), datetime.datetime(2019, 5, 27, 16, 0)),\n",
       " (datetime.datetime(2019, 12, 3, 8, 0), datetime.datetime(2019, 12, 3, 16, 0)),\n",
       " (datetime.datetime(2019, 1, 22, 8, 0), datetime.datetime(2019, 1, 22, 16, 0)),\n",
       " (datetime.datetime(2019, 4, 18, 8, 0), datetime.datetime(2019, 4, 18, 16, 0)),\n",
       " (datetime.datetime(2019, 4, 17, 8, 0), datetime.datetime(2019, 4, 17, 16, 0)),\n",
       " (datetime.datetime(2019, 4, 22, 8, 0), datetime.datetime(2019, 4, 22, 16, 0)),\n",
       " (datetime.datetime(2019, 5, 17, 8, 0), datetime.datetime(2019, 5, 17, 16, 0)),\n",
       " (datetime.datetime(2019, 10, 3, 8, 0), datetime.datetime(2019, 10, 3, 16, 0)),\n",
       " (datetime.datetime(2019, 11, 12, 8, 0),\n",
       "  datetime.datetime(2019, 11, 12, 16, 0)),\n",
       " (datetime.datetime(2019, 6, 20, 8, 0), datetime.datetime(2019, 6, 20, 16, 0)),\n",
       " (datetime.datetime(2019, 5, 28, 8, 0), datetime.datetime(2019, 5, 28, 16, 0))]"
      ]
     },
     "execution_count": 8,
     "metadata": {},
     "output_type": "execute_result"
    }
   ],
   "source": [
    "with open('testing_set_scenario1.pkl', 'rb') as f:\n",
    "        testing_set_scenario1 = pickle.load(f)\n",
    "testing_set_scenario1"
   ]
  },
  {
   "cell_type": "code",
   "execution_count": 9,
   "metadata": {},
   "outputs": [
    {
     "data": {
      "text/plain": [
       "[(datetime.datetime(2019, 12, 15, 0, 0),\n",
       "  datetime.datetime(2019, 12, 15, 8, 0)),\n",
       " (datetime.datetime(2019, 2, 17, 0, 0), datetime.datetime(2019, 2, 17, 8, 0)),\n",
       " (datetime.datetime(2019, 4, 20, 0, 0), datetime.datetime(2019, 4, 20, 8, 0)),\n",
       " (datetime.datetime(2019, 5, 11, 0, 0), datetime.datetime(2019, 5, 11, 8, 0)),\n",
       " (datetime.datetime(2019, 5, 19, 0, 0), datetime.datetime(2019, 5, 19, 8, 0)),\n",
       " (datetime.datetime(2019, 1, 19, 0, 0), datetime.datetime(2019, 1, 19, 8, 0)),\n",
       " (datetime.datetime(2019, 1, 13, 0, 0), datetime.datetime(2019, 1, 13, 8, 0)),\n",
       " (datetime.datetime(2019, 8, 4, 0, 0), datetime.datetime(2019, 8, 4, 8, 0)),\n",
       " (datetime.datetime(2019, 4, 13, 0, 0), datetime.datetime(2019, 4, 13, 8, 0)),\n",
       " (datetime.datetime(2019, 7, 20, 0, 0), datetime.datetime(2019, 7, 20, 8, 0)),\n",
       " (datetime.datetime(2019, 11, 23, 0, 0),\n",
       "  datetime.datetime(2019, 11, 23, 8, 0)),\n",
       " (datetime.datetime(2019, 11, 30, 0, 0),\n",
       "  datetime.datetime(2019, 11, 30, 8, 0)),\n",
       " (datetime.datetime(2019, 7, 21, 0, 0), datetime.datetime(2019, 7, 21, 8, 0)),\n",
       " (datetime.datetime(2019, 2, 3, 0, 0), datetime.datetime(2019, 2, 3, 8, 0)),\n",
       " (datetime.datetime(2019, 1, 12, 0, 0), datetime.datetime(2019, 1, 12, 8, 0)),\n",
       " (datetime.datetime(2019, 12, 28, 0, 0),\n",
       "  datetime.datetime(2019, 12, 28, 8, 0)),\n",
       " (datetime.datetime(2019, 7, 7, 0, 0), datetime.datetime(2019, 7, 7, 8, 0)),\n",
       " (datetime.datetime(2019, 11, 16, 0, 0),\n",
       "  datetime.datetime(2019, 11, 16, 8, 0)),\n",
       " (datetime.datetime(2019, 8, 10, 0, 0), datetime.datetime(2019, 8, 10, 8, 0)),\n",
       " (datetime.datetime(2019, 8, 18, 0, 0), datetime.datetime(2019, 8, 18, 8, 0)),\n",
       " (datetime.datetime(2019, 4, 6, 0, 0), datetime.datetime(2019, 4, 6, 8, 0)),\n",
       " (datetime.datetime(2019, 6, 15, 0, 0), datetime.datetime(2019, 6, 15, 8, 0)),\n",
       " (datetime.datetime(2019, 4, 21, 0, 0), datetime.datetime(2019, 4, 21, 8, 0)),\n",
       " (datetime.datetime(2019, 10, 26, 0, 0),\n",
       "  datetime.datetime(2019, 10, 26, 8, 0)),\n",
       " (datetime.datetime(2019, 6, 2, 0, 0), datetime.datetime(2019, 6, 2, 8, 0)),\n",
       " (datetime.datetime(2019, 11, 24, 0, 0),\n",
       "  datetime.datetime(2019, 11, 24, 8, 0)),\n",
       " (datetime.datetime(2019, 10, 5, 0, 0), datetime.datetime(2019, 10, 5, 8, 0)),\n",
       " (datetime.datetime(2019, 3, 31, 0, 0), datetime.datetime(2019, 3, 31, 8, 0)),\n",
       " (datetime.datetime(2019, 4, 14, 0, 0), datetime.datetime(2019, 4, 14, 8, 0)),\n",
       " (datetime.datetime(2019, 2, 2, 0, 0), datetime.datetime(2019, 2, 2, 8, 0)),\n",
       " (datetime.datetime(2019, 5, 5, 0, 0), datetime.datetime(2019, 5, 5, 8, 0)),\n",
       " (datetime.datetime(2019, 6, 30, 0, 0), datetime.datetime(2019, 6, 30, 8, 0)),\n",
       " (datetime.datetime(2019, 12, 8, 0, 0), datetime.datetime(2019, 12, 8, 8, 0)),\n",
       " (datetime.datetime(2019, 9, 28, 0, 0), datetime.datetime(2019, 9, 28, 8, 0)),\n",
       " (datetime.datetime(2019, 10, 12, 0, 0),\n",
       "  datetime.datetime(2019, 10, 12, 8, 0)),\n",
       " (datetime.datetime(2019, 6, 23, 0, 0), datetime.datetime(2019, 6, 23, 8, 0)),\n",
       " (datetime.datetime(2019, 8, 17, 0, 0), datetime.datetime(2019, 8, 17, 8, 0)),\n",
       " (datetime.datetime(2019, 2, 10, 0, 0), datetime.datetime(2019, 2, 10, 8, 0)),\n",
       " (datetime.datetime(2019, 5, 12, 0, 0), datetime.datetime(2019, 5, 12, 8, 0)),\n",
       " (datetime.datetime(2019, 5, 26, 0, 0), datetime.datetime(2019, 5, 26, 8, 0)),\n",
       " (datetime.datetime(2019, 3, 2, 0, 0), datetime.datetime(2019, 3, 2, 8, 0)),\n",
       " (datetime.datetime(2019, 8, 24, 0, 0), datetime.datetime(2019, 8, 24, 8, 0)),\n",
       " (datetime.datetime(2019, 8, 25, 0, 0), datetime.datetime(2019, 8, 25, 8, 0)),\n",
       " (datetime.datetime(2019, 6, 16, 0, 0), datetime.datetime(2019, 6, 16, 8, 0)),\n",
       " (datetime.datetime(2019, 11, 3, 0, 0), datetime.datetime(2019, 11, 3, 8, 0)),\n",
       " (datetime.datetime(2019, 9, 14, 0, 0), datetime.datetime(2019, 9, 14, 8, 0)),\n",
       " (datetime.datetime(2019, 10, 27, 0, 0),\n",
       "  datetime.datetime(2019, 10, 27, 8, 0)),\n",
       " (datetime.datetime(2019, 12, 29, 0, 0),\n",
       "  datetime.datetime(2019, 12, 29, 8, 0)),\n",
       " (datetime.datetime(2019, 6, 8, 0, 0), datetime.datetime(2019, 6, 8, 8, 0)),\n",
       " (datetime.datetime(2019, 4, 28, 0, 0), datetime.datetime(2019, 4, 28, 8, 0)),\n",
       " (datetime.datetime(2019, 11, 17, 0, 0),\n",
       "  datetime.datetime(2019, 11, 17, 8, 0)),\n",
       " (datetime.datetime(2019, 3, 24, 0, 0), datetime.datetime(2019, 3, 24, 8, 0)),\n",
       " (datetime.datetime(2019, 9, 29, 0, 0), datetime.datetime(2019, 9, 29, 8, 0)),\n",
       " (datetime.datetime(2019, 2, 16, 0, 0), datetime.datetime(2019, 2, 16, 8, 0)),\n",
       " (datetime.datetime(2019, 2, 9, 0, 0), datetime.datetime(2019, 2, 9, 8, 0)),\n",
       " (datetime.datetime(2019, 7, 27, 0, 0), datetime.datetime(2019, 7, 27, 8, 0)),\n",
       " (datetime.datetime(2019, 7, 13, 0, 0), datetime.datetime(2019, 7, 13, 8, 0)),\n",
       " (datetime.datetime(2019, 6, 29, 0, 0), datetime.datetime(2019, 6, 29, 8, 0)),\n",
       " (datetime.datetime(2019, 7, 6, 0, 0), datetime.datetime(2019, 7, 6, 8, 0)),\n",
       " (datetime.datetime(2019, 5, 25, 0, 0), datetime.datetime(2019, 5, 25, 8, 0)),\n",
       " (datetime.datetime(2019, 9, 15, 0, 0), datetime.datetime(2019, 9, 15, 8, 0)),\n",
       " (datetime.datetime(2019, 12, 7, 0, 0), datetime.datetime(2019, 12, 7, 8, 0)),\n",
       " (datetime.datetime(2019, 5, 18, 0, 0), datetime.datetime(2019, 5, 18, 8, 0)),\n",
       " (datetime.datetime(2019, 5, 4, 0, 0), datetime.datetime(2019, 5, 4, 8, 0)),\n",
       " (datetime.datetime(2019, 4, 27, 0, 0), datetime.datetime(2019, 4, 27, 8, 0)),\n",
       " (datetime.datetime(2019, 1, 20, 0, 0), datetime.datetime(2019, 1, 20, 8, 0)),\n",
       " (datetime.datetime(2019, 6, 1, 0, 0), datetime.datetime(2019, 6, 1, 8, 0)),\n",
       " (datetime.datetime(2019, 10, 19, 0, 0),\n",
       "  datetime.datetime(2019, 10, 19, 8, 0)),\n",
       " (datetime.datetime(2019, 3, 17, 0, 0), datetime.datetime(2019, 3, 17, 8, 0)),\n",
       " (datetime.datetime(2019, 3, 23, 0, 0), datetime.datetime(2019, 3, 23, 8, 0)),\n",
       " (datetime.datetime(2019, 3, 3, 0, 0), datetime.datetime(2019, 3, 3, 8, 0)),\n",
       " (datetime.datetime(2019, 1, 6, 0, 0), datetime.datetime(2019, 1, 6, 8, 0)),\n",
       " (datetime.datetime(2019, 8, 11, 0, 0), datetime.datetime(2019, 8, 11, 8, 0)),\n",
       " (datetime.datetime(2019, 1, 5, 0, 0), datetime.datetime(2019, 1, 5, 8, 0)),\n",
       " (datetime.datetime(2019, 10, 13, 0, 0),\n",
       "  datetime.datetime(2019, 10, 13, 8, 0)),\n",
       " (datetime.datetime(2019, 7, 14, 0, 0), datetime.datetime(2019, 7, 14, 8, 0)),\n",
       " (datetime.datetime(2019, 9, 1, 0, 0), datetime.datetime(2019, 9, 1, 8, 0)),\n",
       " (datetime.datetime(2019, 7, 28, 0, 0), datetime.datetime(2019, 7, 28, 8, 0)),\n",
       " (datetime.datetime(2019, 6, 9, 0, 0), datetime.datetime(2019, 6, 9, 8, 0)),\n",
       " (datetime.datetime(2019, 12, 21, 0, 0),\n",
       "  datetime.datetime(2019, 12, 21, 8, 0)),\n",
       " (datetime.datetime(2019, 11, 2, 0, 0), datetime.datetime(2019, 11, 2, 8, 0)),\n",
       " (datetime.datetime(2019, 2, 23, 0, 0), datetime.datetime(2019, 2, 23, 8, 0)),\n",
       " (datetime.datetime(2019, 11, 9, 0, 0), datetime.datetime(2019, 11, 9, 8, 0)),\n",
       " (datetime.datetime(2019, 2, 24, 0, 0), datetime.datetime(2019, 2, 24, 8, 0)),\n",
       " (datetime.datetime(2019, 6, 22, 0, 0), datetime.datetime(2019, 6, 22, 8, 0)),\n",
       " (datetime.datetime(2019, 9, 7, 0, 0), datetime.datetime(2019, 9, 7, 8, 0)),\n",
       " (datetime.datetime(2019, 3, 9, 0, 0), datetime.datetime(2019, 3, 9, 8, 0)),\n",
       " (datetime.datetime(2019, 8, 3, 0, 0), datetime.datetime(2019, 8, 3, 8, 0)),\n",
       " (datetime.datetime(2019, 3, 30, 0, 0), datetime.datetime(2019, 3, 30, 8, 0)),\n",
       " (datetime.datetime(2019, 9, 21, 0, 0), datetime.datetime(2019, 9, 21, 8, 0)),\n",
       " (datetime.datetime(2019, 11, 10, 0, 0),\n",
       "  datetime.datetime(2019, 11, 10, 8, 0)),\n",
       " (datetime.datetime(2019, 1, 27, 0, 0), datetime.datetime(2019, 1, 27, 8, 0)),\n",
       " (datetime.datetime(2019, 1, 26, 0, 0), datetime.datetime(2019, 1, 26, 8, 0)),\n",
       " (datetime.datetime(2019, 12, 1, 0, 0), datetime.datetime(2019, 12, 1, 8, 0)),\n",
       " (datetime.datetime(2019, 4, 7, 0, 0), datetime.datetime(2019, 4, 7, 8, 0)),\n",
       " (datetime.datetime(2019, 9, 22, 0, 0), datetime.datetime(2019, 9, 22, 8, 0)),\n",
       " (datetime.datetime(2019, 3, 10, 0, 0), datetime.datetime(2019, 3, 10, 8, 0)),\n",
       " (datetime.datetime(2019, 3, 16, 0, 0), datetime.datetime(2019, 3, 16, 8, 0)),\n",
       " (datetime.datetime(2019, 12, 22, 0, 0),\n",
       "  datetime.datetime(2019, 12, 22, 8, 0)),\n",
       " (datetime.datetime(2019, 12, 14, 0, 0),\n",
       "  datetime.datetime(2019, 12, 14, 8, 0))]"
      ]
     },
     "execution_count": 9,
     "metadata": {},
     "output_type": "execute_result"
    }
   ],
   "source": [
    "with open('testing_set_scenario2.pkl', 'rb') as f:\n",
    "        testing_set_scenario2 = pickle.load(f)\n",
    "testing_set_scenario2"
   ]
  },
  {
   "cell_type": "markdown",
   "metadata": {},
   "source": [
    "## Training set (2018)"
   ]
  },
  {
   "cell_type": "code",
   "execution_count": 10,
   "metadata": {},
   "outputs": [],
   "source": [
    "data = getYearData(2018)"
   ]
  },
  {
   "cell_type": "markdown",
   "metadata": {},
   "source": [
    "### Scenario 1"
   ]
  },
  {
   "cell_type": "code",
   "execution_count": 15,
   "metadata": {},
   "outputs": [
    {
     "name": "stdout",
     "output_type": "stream",
     "text": [
      "There are 261 unique dates in dataset\n"
     ]
    }
   ],
   "source": [
    "# Select the weekdays (Monday to Friday)\n",
    "df_weekdays = data[data.Date_Time.dt.weekday // 5 == 0]\n",
    "df_weekdays = df_weekdays[(df_weekdays.Date_Time.dt.hour >= 8) & \n",
    "                                (df_weekdays.Date_Time.dt.hour < 16)]\n",
    "\n",
    "dates_uniques_weekdays = df_weekdays['Date_Time'].sort_values().dt.date.unique()\n",
    "# Remove first and last date for full days.\n",
    "#dates_uniques_weekdays = dates_uniques_weekdays[1:-2]\n",
    "print('There are {} unique dates in dataset'.format(len(dates_uniques_weekdays)))\n",
    "\n",
    "## WEEKDAYS\n",
    "# get all weekday shifts\n",
    "all_weekday_shifts = [get_start_end_shift(date, 8) for date in  dates_uniques_weekdays]\n",
    "\n",
    "# select 100 shifts at random\n",
    "random.seed(222)\n",
    "training_set_scenario1 = random.sample(all_weekday_shifts, 100)"
   ]
  },
  {
   "cell_type": "markdown",
   "metadata": {},
   "source": [
    "### Scenario 2"
   ]
  },
  {
   "cell_type": "code",
   "execution_count": 16,
   "metadata": {},
   "outputs": [
    {
     "name": "stdout",
     "output_type": "stream",
     "text": [
      "There are 104 unique dates in dataset\n"
     ]
    }
   ],
   "source": [
    "# Select the weekend days (Saturday and Sunday)\n",
    "df_weekends = data[data.Date_Time.dt.weekday // 5 == 1]\n",
    "df_weekends = df_weekends[(df_weekends.Date_Time.dt.hour >= 0) & \n",
    "                                (df_weekends.Date_Time.dt.hour < 8)]\n",
    "dates_uniques_weekends = df_weekends['Date_Time'].sort_values().dt.date.unique()\n",
    "# Remove first and last date for full days.\n",
    "#dates_uniques_weekends = dates_uniques_weekends[1:-2]\n",
    "print('There are {} unique dates in dataset'.format(len(dates_uniques_weekends)))\n",
    "\n",
    "## WEEKENDS\n",
    "\n",
    "# get all weekend shifts\n",
    "all_weekend_shifts = [get_start_end_shift(date, 0) for date in  dates_uniques_weekends]\n",
    "\n",
    "# select 100 shifts at random\n",
    "random.seed(222)\n",
    "training_set_scenario2 = random.sample(all_weekend_shifts, 100)"
   ]
  },
  {
   "cell_type": "code",
   "execution_count": 53,
   "metadata": {},
   "outputs": [],
   "source": [
    "import pickle\n",
    "with open('./training_set_scenario1.pkl', 'wb') as f:\n",
    "    pickle.dump(training_set_scenario1, f)\n",
    "with open('./training_set_scenario2.pkl', 'wb') as f:\n",
    "    pickle.dump(training_set_scenario2, f)\n"
   ]
  },
  {
   "cell_type": "markdown",
   "metadata": {},
   "source": [
    "## Historical set (2017)"
   ]
  },
  {
   "cell_type": "code",
   "execution_count": 23,
   "metadata": {},
   "outputs": [],
   "source": [
    "data = getYearData(2017)"
   ]
  },
  {
   "cell_type": "code",
   "execution_count": 24,
   "metadata": {},
   "outputs": [
    {
     "data": {
      "text/plain": [
       "(45826, 10)"
      ]
     },
     "execution_count": 24,
     "metadata": {},
     "output_type": "execute_result"
    }
   ],
   "source": [
    "data.shape"
   ]
  },
  {
   "cell_type": "markdown",
   "metadata": {},
   "source": [
    "### Scenario 1"
   ]
  },
  {
   "cell_type": "code",
   "execution_count": 25,
   "metadata": {},
   "outputs": [
    {
     "name": "stdout",
     "output_type": "stream",
     "text": [
      "There are 260 unique dates in dataset\n"
     ]
    }
   ],
   "source": [
    "# Select the weekdays (Monday to Friday)\n",
    "df_weekdays = data[data.Date_Time.dt.weekday // 5 == 0]\n",
    "df_weekdays = df_weekdays[(df_weekdays.Date_Time.dt.hour >= 8) & \n",
    "                                (df_weekdays.Date_Time.dt.hour < 16)]\n",
    "\n",
    "dates_uniques_weekdays = df_weekdays['Date_Time'].sort_values().dt.date.unique()\n",
    "# Remove first and last date for full days.\n",
    "#dates_uniques_weekdays = dates_uniques_weekdays[1:-2]\n",
    "print('There are {} unique dates in dataset'.format(len(dates_uniques_weekdays)))\n",
    "\n",
    "## WEEKDAYS\n",
    "# get all weekday shifts\n",
    "all_weekday_shifts = [get_start_end_shift(date, 8) for date in  dates_uniques_weekdays]\n",
    "\n",
    "# select 100 shifts at random\n",
    "random.seed(222)\n",
    "historical_set_scenario1 = random.sample(all_weekday_shifts, 100)"
   ]
  },
  {
   "cell_type": "markdown",
   "metadata": {},
   "source": [
    "### Scenario 2"
   ]
  },
  {
   "cell_type": "code",
   "execution_count": 26,
   "metadata": {},
   "outputs": [
    {
     "name": "stdout",
     "output_type": "stream",
     "text": [
      "There are 105 unique dates in dataset\n"
     ]
    }
   ],
   "source": [
    "# Select the weekend days (Saturday and Sunday)\n",
    "df_weekends = data[data.Date_Time.dt.weekday // 5 == 1]\n",
    "df_weekends = df_weekends[(df_weekends.Date_Time.dt.hour >= 0) & \n",
    "                                (df_weekends.Date_Time.dt.hour < 8)]\n",
    "dates_uniques_weekends = df_weekends['Date_Time'].sort_values().dt.date.unique()\n",
    "# Remove first and last date for full days.\n",
    "#dates_uniques_weekends = dates_uniques_weekends[1:-2]\n",
    "print('There are {} unique dates in dataset'.format(len(dates_uniques_weekends)))\n",
    "\n",
    "## WEEKENDS\n",
    "\n",
    "# get all weekend shifts\n",
    "all_weekend_shifts = [get_start_end_shift(date, 0) for date in  dates_uniques_weekends]\n",
    "\n",
    "# select 100 shifts at random\n",
    "random.seed(222)\n",
    "historical_set_scenario2 = random.sample(all_weekend_shifts, 100)"
   ]
  },
  {
   "cell_type": "code",
   "execution_count": 27,
   "metadata": {},
   "outputs": [],
   "source": [
    "import pickle\n",
    "with open('./historical_set_scenario1.pkl', 'wb') as f:\n",
    "    pickle.dump(training_set_scenario1, f)\n",
    "with open('./historical_set_scenario2.pkl', 'wb') as f:\n",
    "    pickle.dump(training_set_scenario2, f)"
   ]
  },
  {
   "cell_type": "code",
   "execution_count": null,
   "metadata": {},
   "outputs": [],
   "source": []
  },
  {
   "cell_type": "code",
   "execution_count": null,
   "metadata": {},
   "outputs": [],
   "source": []
  }
 ],
 "metadata": {
  "kernelspec": {
   "display_name": "myenv",
   "language": "python",
   "name": "myenv"
  },
  "language_info": {
   "codemirror_mode": {
    "name": "ipython",
    "version": 3
   },
   "file_extension": ".py",
   "mimetype": "text/x-python",
   "name": "python",
   "nbconvert_exporter": "python",
   "pygments_lexer": "ipython3",
   "version": "3.8.3"
  }
 },
 "nbformat": 4,
 "nbformat_minor": 4
}
